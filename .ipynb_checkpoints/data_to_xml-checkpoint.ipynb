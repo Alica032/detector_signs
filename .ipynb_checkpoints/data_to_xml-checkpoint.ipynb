{
 "cells": [
  {
   "cell_type": "code",
   "execution_count": 27,
   "metadata": {
    "collapsed": true
   },
   "outputs": [],
   "source": [
    "import cv2\n",
    "import os\n",
    "import numpy as np\n",
    "from shutil import copyfile\n",
    "import xml.etree.cElementTree as ET\n",
    "\n",
    "def newXMLPASCALfile(height, width, path,filename):\n",
    "\n",
    "    annotation = ET.Element(\"annotation\", verified=\"yes\")\n",
    "    ET.SubElement(annotation, \"folder\").text = \"images\"\n",
    "    ET.SubElement(annotation, \"filename\").text = filename.replace(\".ppm\",\".jpg\")\n",
    "    ET.SubElement(annotation, \"path\").text = path\n",
    "\n",
    "    source = ET.SubElement(annotation, \"source\")\n",
    "    ET.SubElement(source, \"database\").text = \"test\"\n",
    "\n",
    "    size = ET.SubElement(annotation, \"size\")\n",
    "    ET.SubElement(size, \"width\").text = str(width)\n",
    "    ET.SubElement(size, \"height\").text = str(height)\n",
    "    ET.SubElement(size, \"depth\").text = \"3\"\n",
    "\n",
    "    ET.SubElement(annotation, \"segmented\").text = \"0\"\n",
    "    tree = ET.ElementTree(annotation)\n",
    "    \n",
    "    return tree\n",
    "\n",
    "def appendXMLPASCAL(curr_et_object,x1, y1, x2, y2, filename):\n",
    "    et_object = ET.SubElement(curr_et_object.getroot(), \"object\")\n",
    "    ET.SubElement(et_object, \"name\").text = \"sign\"\n",
    "    \n",
    "    bndbox = ET.SubElement(et_object, \"bndbox\")\n",
    "    ET.SubElement(bndbox, \"xmin\").text = str(x1)\n",
    "    ET.SubElement(bndbox, \"ymin\").text = str(y1)\n",
    "    ET.SubElement(bndbox, \"xmax\").text = str(x2)\n",
    "    ET.SubElement(bndbox, \"ymax\").text = str(y2)\n",
    "    filename = filename.strip().replace(\".ppm\", \".xml\")\n",
    "    curr_et_object.write(filename)\n",
    "    return curr_et_object\n",
    "\n",
    "def readAndWrite(bbx_gttxtPath, path_to_img, path_to_data):\n",
    "    with open(bbx_gttxtPath, 'r') as f:\n",
    "        prev_img = ''\n",
    "        path_to_xml = os.path.join(path_to_data, \"xmls\")\n",
    "        \n",
    "        curr_et_object = ET.ElementTree()\n",
    "\n",
    "        for line in f:\n",
    "            curr_img, x1, y1, x2, y2,_ = line.split(';')\n",
    "            \n",
    "                \n",
    "            if curr_img!=prev_img:\n",
    "                img = cv2.imread(os.path.join(path_to_img, curr_img))\n",
    "                curr_et_object = newXMLPASCALfile(img.shape[0],img.shape[1], path_to_xml, curr_img)\n",
    "                fileNow = os.path.join(path_to_xml, curr_img)\n",
    "                prev_img = curr_img\n",
    "                \n",
    "            curr_et_object = appendXMLPASCAL(curr_et_object,x1, y1, x2, y2, fileNow)\n",
    "\n",
    "            \n",
    "curr_path = os.getcwd()\n",
    "Train_path = os.path.join(curr_path, \"images\" )\n",
    "path_to_data = os.path.join(curr_path, \"data\", \"tf_wider_train\")\n",
    "\n",
    "to_image_folder = os.path.join(path_to_data, \"images\" )\n",
    "bbx_gttxtPath = os.path.join(Train_path, 'gt.txt')\n",
    "\n",
    "try:\n",
    "    os.makedirs(os.path.join(path_to_data, \"xmls\" ))\n",
    "    os.makedirs(to_image_folder)\n",
    "except Exception as e:\n",
    "    pass\n",
    "\n",
    "\n",
    "readAndWrite(bbx_gttxtPath, Train_path, path_to_data)"
   ]
  },
  {
   "cell_type": "code",
   "execution_count": null,
   "metadata": {
    "collapsed": true
   },
   "outputs": [],
   "source": []
  }
 ],
 "metadata": {
  "kernelspec": {
   "display_name": "Python 3",
   "language": "python",
   "name": "python3"
  },
  "language_info": {
   "codemirror_mode": {
    "name": "ipython",
    "version": 3
   },
   "file_extension": ".py",
   "mimetype": "text/x-python",
   "name": "python",
   "nbconvert_exporter": "python",
   "pygments_lexer": "ipython3",
   "version": "3.6.3"
  }
 },
 "nbformat": 4,
 "nbformat_minor": 2
}
